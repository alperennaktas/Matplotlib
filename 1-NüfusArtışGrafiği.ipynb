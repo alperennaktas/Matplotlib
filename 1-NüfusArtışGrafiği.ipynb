{
 "cells": [
  {
   "cell_type": "code",
   "execution_count": 2,
   "id": "61f768cd",
   "metadata": {},
   "outputs": [],
   "source": [
    "import numpy as np\n",
    "import pandas as pd\n",
    "import matplotlib.pyplot as plt"
   ]
  },
  {
   "cell_type": "code",
   "execution_count": 3,
   "id": "bc1de2ef",
   "metadata": {},
   "outputs": [],
   "source": [
    "%matplotlib inline"
   ]
  },
  {
   "cell_type": "code",
   "execution_count": 44,
   "id": "87844942",
   "metadata": {},
   "outputs": [],
   "source": [
    "yil=[2000,2005,2010,2015,2020,2025,2030,2035,2040]"
   ]
  },
  {
   "cell_type": "code",
   "execution_count": 45,
   "id": "0ccd47b0",
   "metadata": {},
   "outputs": [],
   "source": [
    "nüfus=[10,20,30,40,50,45,70,90,90]"
   ]
  },
  {
   "cell_type": "code",
   "execution_count": 46,
   "id": "b41f4170",
   "metadata": {},
   "outputs": [],
   "source": [
    "numpyyil = np.array(yil)\n",
    "numpynüfus = np.array(nüfus)"
   ]
  },
  {
   "cell_type": "code",
   "execution_count": 47,
   "id": "ad535c84",
   "metadata": {},
   "outputs": [
    {
     "data": {
      "text/plain": [
       "array([2000, 2005, 2010, 2015, 2020, 2025, 2030, 2035, 2040])"
      ]
     },
     "execution_count": 47,
     "metadata": {},
     "output_type": "execute_result"
    }
   ],
   "source": [
    "numpyyil"
   ]
  },
  {
   "cell_type": "code",
   "execution_count": 48,
   "id": "13315083",
   "metadata": {},
   "outputs": [
    {
     "data": {
      "text/plain": [
       "array([10, 20, 30, 40, 50, 45, 70, 90, 90])"
      ]
     },
     "execution_count": 48,
     "metadata": {},
     "output_type": "execute_result"
    }
   ],
   "source": [
    "numpynüfus"
   ]
  },
  {
   "cell_type": "code",
   "execution_count": 54,
   "id": "b5c150e8",
   "metadata": {},
   "outputs": [
    {
     "data": {
      "image/png": "[encoded data removed]",
      "text/plain": [
       "<Figure size 432x288 with 1 Axes>"
      ]
     },
     "metadata": {
      "needs_background": "light"
     },
     "output_type": "display_data"
    }
   ],
   "source": [
    "plt.plot(numpyyil,numpynüfus,\"y\")\n",
    "plt.xlabel(\"yil\")\n",
    "plt.ylabel(\"nüfus\")\n",
    "plt.title(\"Ülke Nüfus Grafiği\")\n",
    "plt.show()"
   ]
  },
  {
   "cell_type": "code",
   "execution_count": null,
   "id": "ec7f6bb3",
   "metadata": {},
   "outputs": [],
   "source": []
  }
 ],
 "metadata": {
  "kernelspec": {
   "display_name": "Python 3 (ipykernel)",
   "language": "python",
   "name": "python3"
  },
  "language_info": {
   "codemirror_mode": {
    "name": "ipython",
    "version": 3
   },
   "file_extension": ".py",
   "mimetype": "text/x-python",
   "name": "python",
   "nbconvert_exporter": "python",
   "pygments_lexer": "ipython3",
   "version": "3.9.7"
  }
 },
 "nbformat": 4,
 "nbformat_minor": 5
}
