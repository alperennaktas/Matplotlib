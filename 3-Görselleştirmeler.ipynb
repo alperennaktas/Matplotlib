{
 "cells": [
  {
   "cell_type": "code",
   "execution_count": 31,
   "id": "36af55eb",
   "metadata": {},
   "outputs": [],
   "source": [
    "import numpy as np\n",
    "import numpy as pd\n",
    "import matplotlib.pyplot as plt"
   ]
  },
  {
   "cell_type": "code",
   "execution_count": 32,
   "id": "90db8113",
   "metadata": {},
   "outputs": [],
   "source": [
    "numpyDizisi1 = np.linspace(0,10,20)"
   ]
  },
  {
   "cell_type": "code",
   "execution_count": 33,
   "id": "ecf48ce9",
   "metadata": {},
   "outputs": [
    {
     "data": {
      "text/plain": [
       "array([ 0.        ,  0.52631579,  1.05263158,  1.57894737,  2.10526316,\n",
       "        2.63157895,  3.15789474,  3.68421053,  4.21052632,  4.73684211,\n",
       "        5.26315789,  5.78947368,  6.31578947,  6.84210526,  7.36842105,\n",
       "        7.89473684,  8.42105263,  8.94736842,  9.47368421, 10.        ])"
      ]
     },
     "execution_count": 33,
     "metadata": {},
     "output_type": "execute_result"
    }
   ],
   "source": [
    "numpyDizisi1"
   ]
  },
  {
   "cell_type": "code",
   "execution_count": 34,
   "id": "c1d405fe",
   "metadata": {},
   "outputs": [],
   "source": [
    "numpyDizisi2 = numpyDizisi1 ** 2"
   ]
  },
  {
   "cell_type": "code",
   "execution_count": 35,
   "id": "7169b4a5",
   "metadata": {},
   "outputs": [
    {
     "data": {
      "text/plain": [
       "[<matplotlib.lines.Line2D at 0x18076c5aeb0>]"
      ]
     },
     "execution_count": 35,
     "metadata": {},
     "output_type": "execute_result"
    },
    {
     "data": {
      "image/png": "[encoded data removed]",
      "text/plain": [
       "<Figure size 432x288 with 1 Axes>"
      ]
     },
     "metadata": {
      "needs_background": "light"
     },
     "output_type": "display_data"
    }
   ],
   "source": [
    "(benimFigur,benimEksen) = plt.subplots()\n",
    "benimEksen.plot(numpyDizisi1,numpyDizisi2,color=\"black\",linewidth=5)\n",
    "benimEksen.plot(numpyDizisi2,numpyDizisi1,\"b\")\n",
    "\n"
   ]
  },
  {
   "cell_type": "code",
   "execution_count": 38,
   "id": "afa80d0c",
   "metadata": {},
   "outputs": [
    {
     "data": {
      "text/plain": [
       "<matplotlib.collections.PathCollection at 0x18076d3a430>"
      ]
     },
     "execution_count": 38,
     "metadata": {},
     "output_type": "execute_result"
    },
    {
     "data": {
      "image/png": "[encoded data removed]",
      "text/plain": [
       "<Figure size 432x288 with 1 Axes>"
      ]
     },
     "metadata": {
      "needs_background": "light"
     },
     "output_type": "display_data"
    }
   ],
   "source": [
    "plt.scatter(numpyDizisi1,numpyDizisi2)"
   ]
  },
  {
   "cell_type": "code",
   "execution_count": 43,
   "id": "a4dd9daa",
   "metadata": {},
   "outputs": [],
   "source": [
    "yeniDizi = np.random.randint(0,100,50)"
   ]
  },
  {
   "cell_type": "code",
   "execution_count": 44,
   "id": "e089e5b3",
   "metadata": {},
   "outputs": [
    {
     "data": {
      "text/plain": [
       "array([47, 59,  8, 15, 86, 65, 23, 68, 10, 39, 33, 89, 89,  0,  0, 93, 27,\n",
       "       81, 16, 16, 25, 73, 49, 83,  0, 52, 46,  7, 80, 17, 13, 48, 86, 65,\n",
       "       47, 47, 11, 92, 69, 33, 89, 91, 43,  7, 83, 82, 51, 73, 62,  5])"
      ]
     },
     "execution_count": 44,
     "metadata": {},
     "output_type": "execute_result"
    }
   ],
   "source": [
    "yeniDizi"
   ]
  },
  {
   "cell_type": "code",
   "execution_count": 45,
   "id": "8ec65303",
   "metadata": {},
   "outputs": [
    {
     "data": {
      "text/plain": [
       "(array([7., 7., 3., 2., 3., 7., 4., 4., 5., 8.]),\n",
       " array([ 0. ,  9.3, 18.6, 27.9, 37.2, 46.5, 55.8, 65.1, 74.4, 83.7, 93. ]),\n",
       " <BarContainer object of 10 artists>)"
      ]
     },
     "execution_count": 45,
     "metadata": {},
     "output_type": "execute_result"
    },
    {
     "data": {
      "image/png": "[encoded data removed]",
      "text/plain": [
       "<Figure size 432x288 with 1 Axes>"
      ]
     },
     "metadata": {
      "needs_background": "light"
     },
     "output_type": "display_data"
    }
   ],
   "source": [
    "plt.hist(yeniDizi)"
   ]
  },
  {
   "cell_type": "code",
   "execution_count": 47,
   "id": "b67dbab0",
   "metadata": {},
   "outputs": [
    {
     "data": {
      "text/plain": [
       "{'whiskers': [<matplotlib.lines.Line2D at 0x18076e85e80>,\n",
       "  <matplotlib.lines.Line2D at 0x18076e92250>],\n",
       " 'caps': [<matplotlib.lines.Line2D at 0x18076e925e0>,\n",
       "  <matplotlib.lines.Line2D at 0x18076e92910>],\n",
       " 'boxes': [<matplotlib.lines.Line2D at 0x18076e85af0>],\n",
       " 'medians': [<matplotlib.lines.Line2D at 0x18076e92ca0>],\n",
       " 'fliers': [<matplotlib.lines.Line2D at 0x18076e9e070>],\n",
       " 'means': []}"
      ]
     },
     "execution_count": 47,
     "metadata": {},
     "output_type": "execute_result"
    },
    {
     "data": {
      "image/png": "[encoded data removed]",
      "text/plain": [
       "<Figure size 432x288 with 1 Axes>"
      ]
     },
     "metadata": {
      "needs_background": "light"
     },
     "output_type": "display_data"
    }
   ],
   "source": [
    "plt.boxplot(yeniDizi*3)"
   ]
  },
  {
   "cell_type": "code",
   "execution_count": null,
   "id": "1ee84324",
   "metadata": {},
   "outputs": [],
   "source": []
  }
 ],
 "metadata": {
  "kernelspec": {
   "display_name": "Python 3 (ipykernel)",
   "language": "python",
   "name": "python3"
  },
  "language_info": {
   "codemirror_mode": {
    "name": "ipython",
    "version": 3
   },
   "file_extension": ".py",
   "mimetype": "text/x-python",
   "name": "python",
   "nbconvert_exporter": "python",
   "pygments_lexer": "ipython3",
   "version": "3.9.7"
  }
 },
 "nbformat": 4,
 "nbformat_minor": 5
}
